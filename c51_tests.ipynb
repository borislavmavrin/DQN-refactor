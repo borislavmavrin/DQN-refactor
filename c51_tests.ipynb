{
 "cells": [
  {
   "cell_type": "code",
   "execution_count": 1,
   "metadata": {},
   "outputs": [],
   "source": [
    "import tensorflow as tf\n",
    "\n",
    "tf.reset_default_graph()"
   ]
  },
  {
   "cell_type": "code",
   "execution_count": 2,
   "metadata": {},
   "outputs": [],
   "source": [
    "batch_size = 2\n",
    "num_actions = 2\n",
    "number_of_atoms = 3\n",
    "Vmax = tf.cast(1, tf.float32)\n",
    "Vmin = tf.cast(-1, tf.float32)\n",
    "gamma = 0.99"
   ]
  },
  {
   "cell_type": "code",
   "execution_count": 3,
   "metadata": {},
   "outputs": [],
   "source": [
    "q_init = tf.constant([\n",
    "    [\n",
    "        [0.3, 0.4, 0.3],\n",
    "        [0.3, 0.4, 0.3]\n",
    "    ],\n",
    "    [\n",
    "        [0.3, 0.4, 0.3],\n",
    "        [0.3, 0.4, 0.3]\n",
    "    ]   \n",
    "], dtype=tf.float32)\n",
    "\n",
    "target_q = tf.constant([\n",
    "    [\n",
    "        [0.1, 0.1, 0.8],\n",
    "        [0.8, 0.1, 0.1]\n",
    "    ],\n",
    "    [\n",
    "        [0.1, 0.1, 0.8],\n",
    "        [0.8, 0.1, 0.1]\n",
    "    ] \n",
    "], dtype=tf.float32)\n",
    "\n",
    "r = tf.constant([-1., -1.], dtype=tf.float32)\n",
    "a = tf.constant([0, 1], dtype=tf.int32)\n",
    "done_mask = tf.constant([0., 1.], dtype=tf.float32)\n"
   ]
  },
  {
   "cell_type": "code",
   "execution_count": 4,
   "metadata": {},
   "outputs": [],
   "source": [
    "q = tf.get_variable('q', initializer=q_init)\n",
    "q = tf.nn.softmax(q)"
   ]
  },
  {
   "cell_type": "code",
   "execution_count": 5,
   "metadata": {},
   "outputs": [],
   "source": [
    "delta_z = (Vmax - Vmin) / float(number_of_atoms - 1)\n",
    "z = tf.tile(tf.reshape(tf.linspace(Vmin, Vmax, number_of_atoms), (1, -1)), [batch_size, 1])\n",
    "\n",
    "# update and project support\n",
    "z_update = tf.reshape(r,  (-1, 1)) + gamma * (1. - tf.reshape(done_mask, (-1, 1))) * z\n",
    "z_update_clipped = tf.clip_by_value(z_update, Vmin + 1e-7, Vmax + 1e-7)\n",
    "b = (z_update_clipped - Vmin - 1e-7) / delta_z\n",
    "u = tf.ceil(b)\n",
    "l = tf.floor(b)\n",
    "\n",
    "# argmax_a' Q_target(s', a')\n",
    "z_batch = tf.tile(tf.reshape(tf.linspace(Vmin, Vmax, number_of_atoms), (1, 1, -1)), [batch_size, num_actions, 1])\n",
    "a_next = tf.reduce_mean(target_q * z_batch, axis=2)\n",
    "a_next_max = tf.argmax(a_next, 1)\n",
    "a_next_idx = tf.stack([tf.range(batch_size), tf.cast(a_next_max, tf.int32)], axis=1)\n",
    "target_p = tf.gather_nd(target_q, a_next_idx)\n",
    "\n",
    "# distribute probability masses\n",
    "l_p = (u - b) * target_p\n",
    "u_p = (b - l) * target_p\n",
    "\n",
    "with tf.variable_scope('projection', reuse=False):\n",
    "    m = tf.get_variable(\n",
    "        'm', [batch_size, number_of_atoms], dtype=tf.float32,\n",
    "        initializer=tf.constant_initializer(0),\n",
    "        trainable=False\n",
    "    )\n",
    "\n",
    "projection_op_lst = []\n",
    "# zero out m\n",
    "op = tf.assign(m, tf.zeros_like(m))\n",
    "projection_op_lst.append(op.op)\n",
    "for batch in range(batch_size):\n",
    "    op = tf.assign(m[batch], m[batch] +\n",
    "                   tf.unsorted_segment_sum(l_p[batch], tf.cast(l[batch], tf.int32), number_of_atoms) +\n",
    "                   tf.unsorted_segment_sum(u_p[batch], tf.cast(u[batch], tf.int32), number_of_atoms)\n",
    "                   )\n",
    "    projection_op_lst.append(op.op)\n",
    "\n",
    "m_prob = tf.nn.softmax(m, axis=1)\n",
    "\n",
    "# compute loss\n",
    "a_idx = tf.stack([tf.range(batch_size), tf.cast(a, tf.int32)], axis=1)\n",
    "predicted_p = tf.gather_nd(q, a_idx)\n",
    "\n",
    "loss = tf.reduce_sum(m_prob * tf.log(predicted_p), axis=1)\n",
    "loss = -tf.reduce_mean(loss)\n",
    "\n",
    "\n",
    "optimizer = tf.train.AdamOptimizer(0.01)\n",
    "train_op = optimizer.minimize(loss)"
   ]
  },
  {
   "cell_type": "code",
   "execution_count": 6,
   "metadata": {},
   "outputs": [],
   "source": [
    "sess = tf.Session()\n",
    "sess.run(tf.global_variables_initializer())"
   ]
  },
  {
   "cell_type": "code",
   "execution_count": 7,
   "metadata": {
    "scrolled": false
   },
   "outputs": [
    {
     "name": "stdout",
     "output_type": "stream",
     "text": [
      "1.0976036\n",
      "0.8911241\n",
      "1.0081251\n",
      "1.0070993\n",
      "1.0079237\n",
      "1.0072668\n",
      "1.0075135\n",
      "1.0078026\n",
      "1.0081862\n",
      "1.0071292\n"
     ]
    }
   ],
   "source": [
    "for i in range(1000):\n",
    "    sess.run(projection_op_lst)\n",
    "    loss_np = sess.run(loss)\n",
    "    if i % 100 == 0:    \n",
    "        print(loss_np)\n",
    "    sess.run(train_op)"
   ]
  },
  {
   "cell_type": "code",
   "execution_count": 8,
   "metadata": {},
   "outputs": [
    {
     "name": "stdout",
     "output_type": "stream",
     "text": [
      "Variable:  q:0\n",
      "Shape:  (2, 2, 3)\n"
     ]
    }
   ],
   "source": [
    "variables_names = [v.name for v in tf.trainable_variables()]\n",
    "values = sess.run(variables_names)\n",
    "for k, v in zip(variables_names, values):\n",
    "    print \"Variable: \", k\n",
    "    print \"Shape: \", v.shape"
   ]
  },
  {
   "cell_type": "code",
   "execution_count": 9,
   "metadata": {},
   "outputs": [
    {
     "data": {
      "text/plain": [
       "array([[[0.29016688, 0.46323124, 0.24660183],\n",
       "        [0.32204348, 0.35591307, 0.32204348]],\n",
       "\n",
       "       [[0.32204348, 0.35591307, 0.32204348],\n",
       "        [0.58076924, 0.20952903, 0.20970175]]], dtype=float32)"
      ]
     },
     "execution_count": 9,
     "metadata": {},
     "output_type": "execute_result"
    }
   ],
   "source": [
    "sess.run(q)"
   ]
  },
  {
   "cell_type": "code",
   "execution_count": 10,
   "metadata": {},
   "outputs": [
    {
     "data": {
      "text/plain": [
       "array([[[0.1, 0.1, 0.8],\n",
       "        [0.8, 0.1, 0.1]],\n",
       "\n",
       "       [[0.1, 0.1, 0.8],\n",
       "        [0.8, 0.1, 0.1]]], dtype=float32)"
      ]
     },
     "execution_count": 10,
     "metadata": {},
     "output_type": "execute_result"
    }
   ],
   "source": [
    "sess.run(target_q)"
   ]
  },
  {
   "cell_type": "code",
   "execution_count": null,
   "metadata": {},
   "outputs": [],
   "source": []
  },
  {
   "cell_type": "code",
   "execution_count": null,
   "metadata": {},
   "outputs": [],
   "source": []
  }
 ],
 "metadata": {
  "kernelspec": {
   "display_name": "Python 2",
   "language": "python",
   "name": "python2"
  },
  "language_info": {
   "codemirror_mode": {
    "name": "ipython",
    "version": 2
   },
   "file_extension": ".py",
   "mimetype": "text/x-python",
   "name": "python",
   "nbconvert_exporter": "python",
   "pygments_lexer": "ipython2",
   "version": "2.7.12"
  }
 },
 "nbformat": 4,
 "nbformat_minor": 2
}
