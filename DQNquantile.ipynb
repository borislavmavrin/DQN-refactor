{
 "cells": [
  {
   "cell_type": "code",
   "execution_count": 1,
   "metadata": {},
   "outputs": [],
   "source": [
    "import tensorflow as tf"
   ]
  },
  {
   "cell_type": "code",
   "execution_count": 2,
   "metadata": {},
   "outputs": [],
   "source": [
    "from dqn_quantile import DQNquantie\n",
    "from configs.q3_nature import config\n",
    "from utils.test_env import EnvTest"
   ]
  },
  {
   "cell_type": "code",
   "execution_count": 3,
   "metadata": {},
   "outputs": [],
   "source": [
    "env = EnvTest((80, 80, 1))\n"
   ]
  },
  {
   "cell_type": "code",
   "execution_count": 4,
   "metadata": {},
   "outputs": [],
   "source": [
    "state = env.reset()"
   ]
  },
  {
   "cell_type": "code",
   "execution_count": 5,
   "metadata": {
    "scrolled": true
   },
   "outputs": [
    {
     "data": {
      "text/plain": [
       "(80, 80, 1)"
      ]
     },
     "execution_count": 5,
     "metadata": {},
     "output_type": "execute_result"
    }
   ],
   "source": [
    "state.shape"
   ]
  },
  {
   "cell_type": "code",
   "execution_count": 6,
   "metadata": {},
   "outputs": [],
   "source": [
    "import numpy as np"
   ]
  },
  {
   "cell_type": "code",
   "execution_count": 7,
   "metadata": {},
   "outputs": [
    {
     "data": {
      "text/plain": [
       "(2, 80, 80, 4)"
      ]
     },
     "execution_count": 7,
     "metadata": {},
     "output_type": "execute_result"
    }
   ],
   "source": [
    "np.tile(state.reshape(1, 80, 80, 1), [2, 1, 1, 4]).shape"
   ]
  },
  {
   "cell_type": "code",
   "execution_count": 8,
   "metadata": {},
   "outputs": [
    {
     "name": "stdout",
     "output_type": "stream",
     "text": [
      "WARNING:tensorflow:From /home/bmavrin/DQN/.env/local/lib/python2.7/site-packages/tensorflow/contrib/learn/python/learn/datasets/base.py:198: retry (from tensorflow.contrib.learn.python.learn.datasets.base) is deprecated and will be removed in a future version.\n",
      "Instructions for updating:\n",
      "Use the retry module or similar alternatives.\n"
     ]
    },
    {
     "name": "stderr",
     "output_type": "stream",
     "text": [
      "From /home/bmavrin/DQN/.env/local/lib/python2.7/site-packages/tensorflow/contrib/learn/python/learn/datasets/base.py:198: retry (from tensorflow.contrib.learn.python.learn.datasets.base) is deprecated and will be removed in a future version.\n",
      "Instructions for updating:\n",
      "Use the retry module or similar alternatives.\n"
     ]
    }
   ],
   "source": [
    "model = DQNquantie(env, config)"
   ]
  },
  {
   "cell_type": "code",
   "execution_count": 9,
   "metadata": {},
   "outputs": [],
   "source": [
    "model.initialize()"
   ]
  },
  {
   "cell_type": "code",
   "execution_count": 10,
   "metadata": {},
   "outputs": [],
   "source": [
    "s = np.tile(state.reshape(1, 80, 80, 1), [32, 1, 1, 4])\n",
    "r = np.random.randint(-10, 10, 32)\n",
    "done_mask = np.random.randint(0, 1, 32)\n",
    "a = np.random.randint(0, 3, 32)"
   ]
  },
  {
   "cell_type": "code",
   "execution_count": 20,
   "metadata": {},
   "outputs": [],
   "source": [
    "model.sess.run(\n",
    "    model.projection_op,\n",
    "    feed_dict={\n",
    "        model.s: s,\n",
    "        model.sp: s,\n",
    "        model.r: r,\n",
    "        model.done_mask: done_mask,\n",
    "        model.a: a\n",
    "    }\n",
    ")"
   ]
  },
  {
   "cell_type": "code",
   "execution_count": null,
   "metadata": {},
   "outputs": [],
   "source": []
  },
  {
   "cell_type": "code",
   "execution_count": 22,
   "metadata": {},
   "outputs": [],
   "source": [
    "model.sess.run(\n",
    "    model.projection_op,\n",
    "    feed_dict={\n",
    "        model.s: s,\n",
    "        model.sp: s,\n",
    "        model.r: r,\n",
    "        model.done_mask: done_mask,\n",
    "        model.a: a\n",
    "    }\n",
    ")"
   ]
  },
  {
   "cell_type": "code",
   "execution_count": 42,
   "metadata": {
    "scrolled": false
   },
   "outputs": [],
   "source": [
    "loss, q, = model.sess.run(\n",
    "    [model.loss, tf.nn.softmax(model.q, axis=2)],\n",
    "    feed_dict={\n",
    "        model.s: s,\n",
    "        model.sp: s,\n",
    "        model.r: r,\n",
    "        model.done_mask: done_mask,\n",
    "        model.a: a\n",
    "    }\n",
    ")"
   ]
  },
  {
   "cell_type": "code",
   "execution_count": 43,
   "metadata": {},
   "outputs": [
    {
     "data": {
      "text/plain": [
       "array([[0.9999999, 1.       , 1.0000001, 1.0000001, 1.       ],\n",
       "       [0.9999999, 1.       , 1.0000001, 1.0000001, 1.       ],\n",
       "       [0.9999999, 1.       , 1.0000001, 1.0000001, 1.       ],\n",
       "       [0.9999999, 1.       , 1.0000001, 1.0000001, 1.       ],\n",
       "       [0.9999999, 1.       , 1.0000001, 1.0000001, 1.       ],\n",
       "       [0.9999999, 1.       , 1.0000001, 1.0000001, 1.       ],\n",
       "       [0.9999999, 1.       , 1.0000001, 1.0000001, 1.       ],\n",
       "       [0.9999999, 1.       , 1.0000001, 1.0000001, 1.       ],\n",
       "       [0.9999999, 1.       , 1.0000001, 1.0000001, 1.       ],\n",
       "       [0.9999999, 1.       , 1.0000001, 1.0000001, 1.       ],\n",
       "       [0.9999999, 1.       , 1.0000001, 1.0000001, 1.       ],\n",
       "       [0.9999999, 1.       , 1.0000001, 1.0000001, 1.       ],\n",
       "       [0.9999999, 1.       , 1.0000001, 1.0000001, 1.       ],\n",
       "       [0.9999999, 1.       , 1.0000001, 1.0000001, 1.       ],\n",
       "       [0.9999999, 1.       , 1.0000001, 1.0000001, 1.       ],\n",
       "       [0.9999999, 1.       , 1.0000001, 1.0000001, 1.       ],\n",
       "       [0.9999999, 1.       , 1.0000001, 1.0000001, 1.       ],\n",
       "       [0.9999999, 1.       , 1.0000001, 1.0000001, 1.       ],\n",
       "       [0.9999999, 1.       , 1.0000001, 1.0000001, 1.       ],\n",
       "       [0.9999999, 1.       , 1.0000001, 1.0000001, 1.       ],\n",
       "       [0.9999999, 1.       , 1.0000001, 1.0000001, 1.       ],\n",
       "       [0.9999999, 1.       , 1.0000001, 1.0000001, 1.       ],\n",
       "       [0.9999999, 1.       , 1.0000001, 1.0000001, 1.       ],\n",
       "       [0.9999999, 1.       , 1.0000001, 1.0000001, 1.       ],\n",
       "       [0.9999999, 1.       , 1.0000001, 1.0000001, 1.       ],\n",
       "       [0.9999999, 1.       , 1.0000001, 1.0000001, 1.       ],\n",
       "       [0.9999999, 1.       , 1.0000001, 1.0000001, 1.       ],\n",
       "       [0.9999999, 1.       , 1.0000001, 1.0000001, 1.       ],\n",
       "       [0.9999999, 1.       , 1.0000001, 1.0000001, 1.       ],\n",
       "       [0.9999999, 1.       , 1.0000001, 1.0000001, 1.       ],\n",
       "       [0.9999999, 1.       , 1.0000001, 1.0000001, 1.       ],\n",
       "       [0.9999999, 1.       , 1.0000001, 1.0000001, 1.       ]],\n",
       "      dtype=float32)"
      ]
     },
     "execution_count": 43,
     "metadata": {},
     "output_type": "execute_result"
    }
   ],
   "source": [
    "q.sum(axis=2)"
   ]
  },
  {
   "cell_type": "code",
   "execution_count": null,
   "metadata": {},
   "outputs": [],
   "source": []
  },
  {
   "cell_type": "code",
   "execution_count": null,
   "metadata": {},
   "outputs": [],
   "source": []
  },
  {
   "cell_type": "code",
   "execution_count": 18,
   "metadata": {},
   "outputs": [
    {
     "name": "stdout",
     "output_type": "stream",
     "text": [
      "Variable:  q/Conv/weights:0\n",
      "Shape:  (8, 8, 4, 32)\n",
      "Variable:  q/Conv/biases:0\n",
      "Shape:  (32,)\n",
      "Variable:  q/Conv_1/weights:0\n",
      "Shape:  (4, 4, 32, 64)\n",
      "Variable:  q/Conv_1/biases:0\n",
      "Shape:  (64,)\n",
      "Variable:  q/Conv_2/weights:0\n",
      "Shape:  (3, 3, 64, 64)\n",
      "Variable:  q/Conv_2/biases:0\n",
      "Shape:  (64,)\n",
      "Variable:  q/fully_connected/weights:0\n",
      "Shape:  (6400, 512)\n",
      "Variable:  q/fully_connected/biases:0\n",
      "Shape:  (512,)\n",
      "Variable:  q/W:0\n",
      "Shape:  (512, 5, 51)\n",
      "Variable:  target_q/Conv/weights:0\n",
      "Shape:  (8, 8, 4, 32)\n",
      "Variable:  target_q/Conv/biases:0\n",
      "Shape:  (32,)\n",
      "Variable:  target_q/Conv_1/weights:0\n",
      "Shape:  (4, 4, 32, 64)\n",
      "Variable:  target_q/Conv_1/biases:0\n",
      "Shape:  (64,)\n",
      "Variable:  target_q/Conv_2/weights:0\n",
      "Shape:  (3, 3, 64, 64)\n",
      "Variable:  target_q/Conv_2/biases:0\n",
      "Shape:  (64,)\n",
      "Variable:  target_q/fully_connected/weights:0\n",
      "Shape:  (6400, 512)\n",
      "Variable:  target_q/fully_connected/biases:0\n",
      "Shape:  (512,)\n",
      "Variable:  target_q/W:0\n",
      "Shape:  (512, 5, 51)\n"
     ]
    }
   ],
   "source": [
    "variables_names = [v.name for v in tf.trainable_variables()]\n",
    "values = model.sess.run(variables_names)\n",
    "for k, v in zip(variables_names, values):\n",
    "    print \"Variable: \", k\n",
    "    print \"Shape: \", v.shape\n",
    "#     print v"
   ]
  },
  {
   "cell_type": "code",
   "execution_count": 19,
   "metadata": {
    "scrolled": false
   },
   "outputs": [
    {
     "ename": "NameError",
     "evalue": "name 'var_lst' is not defined",
     "output_type": "error",
     "traceback": [
      "\u001b[0;31m---------------------------------------------------------------------------\u001b[0m",
      "\u001b[0;31mNameError\u001b[0m                                 Traceback (most recent call last)",
      "\u001b[0;32m<ipython-input-19-59078d9fc839>\u001b[0m in \u001b[0;36m<module>\u001b[0;34m()\u001b[0m\n\u001b[0;32m----> 1\u001b[0;31m \u001b[0mvar_lst\u001b[0m\u001b[0;34m\u001b[0m\u001b[0m\n\u001b[0m",
      "\u001b[0;31mNameError\u001b[0m: name 'var_lst' is not defined"
     ]
    }
   ],
   "source": [
    "var_lst"
   ]
  },
  {
   "cell_type": "code",
   "execution_count": null,
   "metadata": {},
   "outputs": [],
   "source": [
    "z.shape"
   ]
  },
  {
   "cell_type": "code",
   "execution_count": null,
   "metadata": {},
   "outputs": [],
   "source": [
    "Vmin = float(model.config.Vmin)\n",
    "Vmax = float(model.config.Vmax)\n",
    "number_of_atoms = model.config.number_of_atoms\n",
    "num_actions = model.env.action_space.n\n",
    "\n",
    "z = np.tile(np.reshape(np.linspace(Vmin, Vmax, number_of_atoms), (1, -1)), [num_actions, 1])\n",
    "a_next = np.mean(q[0] * z, axis=1)\n",
    "a_next_max = np.argmax(a_next)"
   ]
  },
  {
   "cell_type": "code",
   "execution_count": null,
   "metadata": {},
   "outputs": [],
   "source": [
    "a_next_max\n"
   ]
  },
  {
   "cell_type": "code",
   "execution_count": null,
   "metadata": {},
   "outputs": [],
   "source": [
    "model.config.batch_size\n"
   ]
  },
  {
   "cell_type": "code",
   "execution_count": null,
   "metadata": {},
   "outputs": [],
   "source": [
    "model.sess.run(tf.get_collection(tf.))"
   ]
  }
 ],
 "metadata": {
  "kernelspec": {
   "display_name": "Python 2",
   "language": "python",
   "name": "python2"
  },
  "language_info": {
   "codemirror_mode": {
    "name": "ipython",
    "version": 2
   },
   "file_extension": ".py",
   "mimetype": "text/x-python",
   "name": "python",
   "nbconvert_exporter": "python",
   "pygments_lexer": "ipython2",
   "version": "2.7.12"
  }
 },
 "nbformat": 4,
 "nbformat_minor": 2
}
