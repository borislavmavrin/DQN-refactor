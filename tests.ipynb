{
 "cells": [
  {
   "cell_type": "code",
   "execution_count": 1,
   "metadata": {},
   "outputs": [],
   "source": [
    "from utils.general import get_logger\n",
    "from utils.test_env import EnvTest\n",
    "from q1_schedule import LinearExploration, LinearSchedule\n",
    "from dqn import DQN\n",
    "from configs.q3_nature import config"
   ]
  },
  {
   "cell_type": "code",
   "execution_count": 2,
   "metadata": {},
   "outputs": [],
   "source": [
    "import tensorflow as tf\n",
    "import numpy as np\n",
    "tf.reset_default_graph()"
   ]
  },
  {
   "cell_type": "code",
   "execution_count": 3,
   "metadata": {
    "scrolled": true
   },
   "outputs": [
    {
     "name": "stdout",
     "output_type": "stream",
     "text": [
      "WARNING:tensorflow:From /usr/local/lib/python2.7/site-packages/tensorflow/python/ops/clip_ops.py:113: calling reduce_sum (from tensorflow.python.ops.math_ops) with keep_dims is deprecated and will be removed in a future version.\n",
      "Instructions for updating:\n",
      "keep_dims is deprecated, use keepdims instead\n"
     ]
    },
    {
     "name": "stderr",
     "output_type": "stream",
     "text": [
      "From /usr/local/lib/python2.7/site-packages/tensorflow/python/ops/clip_ops.py:113: calling reduce_sum (from tensorflow.python.ops.math_ops) with keep_dims is deprecated and will be removed in a future version.\n",
      "Instructions for updating:\n",
      "keep_dims is deprecated, use keepdims instead\n"
     ]
    }
   ],
   "source": [
    "env = EnvTest((80, 80, 1))\n",
    "model = DQN(env, config)"
   ]
  },
  {
   "cell_type": "markdown",
   "metadata": {},
   "source": [
    "## q nets and update test"
   ]
  },
  {
   "cell_type": "code",
   "execution_count": 4,
   "metadata": {},
   "outputs": [],
   "source": [
    "s = tf.ones([1, 80, 80, 4], dtype=tf.float32)\n",
    "sp = tf.ones([1, 80, 80, 4], dtype=tf.float32)"
   ]
  },
  {
   "cell_type": "code",
   "execution_count": 5,
   "metadata": {},
   "outputs": [],
   "source": [
    "def is_equal(x, y):\n",
    "    is_equal = tf.equal(x, y)\n",
    "    is_equal = tf.logical_not(is_equal)\n",
    "    is_equal = tf.cast(is_equal, tf.int32)\n",
    "    is_equal = tf.reduce_sum(is_equal)\n",
    "    is_equal = tf.equal(is_equal, 0)\n",
    "    return is_equal"
   ]
  },
  {
   "cell_type": "code",
   "execution_count": 7,
   "metadata": {
    "scrolled": false
   },
   "outputs": [],
   "source": [
    "q_test = model.get_q_values_op(s, scope=\"q_test\", reuse=False)\n",
    "target_q_test = model.get_q_values_op(sp, scope=\"target_q_test\", reuse=False)\n",
    "update_target_op = model.add_update_target_op(\"q_test\", \"target_q_test\")"
   ]
  },
  {
   "cell_type": "code",
   "execution_count": 8,
   "metadata": {},
   "outputs": [],
   "source": [
    "q_test_var_lst = tf.get_collection(\n",
    "    tf.GraphKeys.TRAINABLE_VARIABLES,\n",
    "    \"q_test\")\n",
    "target_q_test_var_lst = tf.get_collection(\n",
    "    tf.GraphKeys.TRAINABLE_VARIABLES,\n",
    "    \"target_q_test\")"
   ]
  },
  {
   "cell_type": "code",
   "execution_count": 9,
   "metadata": {},
   "outputs": [],
   "source": [
    "assert len(q_test_var_lst) == len(target_q_test_var_lst), \\\n",
    "  \"number of variables in q and target_q differ\""
   ]
  },
  {
   "cell_type": "code",
   "execution_count": 15,
   "metadata": {
    "scrolled": false
   },
   "outputs": [],
   "source": [
    "sess = tf.Session()\n",
    "init = tf.global_variables_initializer()\n",
    "sess.run(init)\n",
    "distance_before_lst = []\n",
    "\n",
    "# check difference before the update\n",
    "for idx in range(len(target_q_test_var_lst)):\n",
    "    # skip bias, since they are intialized with 0's\n",
    "    if 'bias' in q_test_var_lst[idx].name:\n",
    "        continue\n",
    "    distance_np = (sess.run(tf.norm(\n",
    "        q_test_var_lst[idx] -\n",
    "        target_q_test_var_lst[idx]\n",
    "    )))\n",
    "    distance_before_lst.append(distance_np)\n",
    "    \n",
    "assert np.mean(distance_before_lst) != 0., \\\n",
    "  'q and taget_q initialized with the same weights'\n",
    "\n",
    "# perform update\n",
    "sess.run(update_target_op)\n",
    "\n",
    "# check difference after the update\n",
    "distance_after_lst = []\n",
    "for idx in range(len(target_q_test_var_lst)):\n",
    "    # skip bias, since they are intialized with 0's\n",
    "    if 'bias' in q_test_var_lst[idx].name:\n",
    "        continue\n",
    "    distance_np = (sess.run(tf.norm(\n",
    "        q_test_var_lst[idx] -\n",
    "        target_q_test_var_lst[idx]\n",
    "    )))\n",
    "    distance_after_lst.append(distance_np)\n",
    "assert np.mean(distance_after_lst) == 0., \\\n",
    "  'q and taget_q weights are different after the update'"
   ]
  },
  {
   "cell_type": "markdown",
   "metadata": {},
   "source": [
    "## loss test"
   ]
  },
  {
   "cell_type": "code",
   "execution_count": 36,
   "metadata": {},
   "outputs": [],
   "source": [
    "model.env.action_space.n = 3"
   ]
  },
  {
   "cell_type": "code",
   "execution_count": 50,
   "metadata": {},
   "outputs": [],
   "source": [
    "a_np = np.array([0, 1], dtype=np.int64)\n",
    "q_test_np = np.array([\n",
    "    [0.1, 0.2, 0.3],\n",
    "    [0.6, 0.5, 0.4]   \n",
    "], dtype=np.float32)\n",
    "target_q_test_np = np.array([\n",
    "    [1.1, 1.2, 1.3],\n",
    "    [1.6, 1.5, 1.4]   \n",
    "], dtype=np.float32)\n",
    "r_np = np.array([1., 10.], dtype=np.float32)\n",
    "done_mask_np = np.array([0., 1.], dtype=np.float32)\n",
    "num_actions = 3\n"
   ]
  },
  {
   "cell_type": "code",
   "execution_count": 51,
   "metadata": {},
   "outputs": [
    {
     "data": {
      "text/plain": [
       "dtype('float32')"
      ]
     },
     "execution_count": 51,
     "metadata": {},
     "output_type": "execute_result"
    }
   ],
   "source": [
    "q_test_np.dtype"
   ]
  },
  {
   "cell_type": "code",
   "execution_count": 52,
   "metadata": {
    "scrolled": false
   },
   "outputs": [],
   "source": [
    "q_test_placeholder = tf.placeholder(\n",
    "    tf.float32,\n",
    "    shape=[2, 3])\n",
    "q_target_test_placeholder = tf.placeholder(\n",
    "    tf.float32,\n",
    "    shape=[2, 3])\n",
    "\n",
    "loss_tf = model.add_loss_op(\n",
    "    q_test_placeholder,\n",
    "    q_target_test_placeholder)\n",
    "\n",
    "loss_np = sess.run(\n",
    "    loss_tf,\n",
    "    feed_dict={\n",
    "        q_test_placeholder: q_test_np,\n",
    "        q_target_test_placeholder: target_q_test_np,\n",
    "        model.a: a_np,\n",
    "        model.r: r_np ,\n",
    "        model.done_mask: done_mask_np\n",
    "    }\n",
    ")"
   ]
  },
  {
   "cell_type": "code",
   "execution_count": 59,
   "metadata": {},
   "outputs": [
    {
     "data": {
      "text/plain": [
       "47.516483"
      ]
     },
     "execution_count": 59,
     "metadata": {},
     "output_type": "execute_result"
    }
   ],
   "source": [
    "loss_np"
   ]
  },
  {
   "cell_type": "code",
   "execution_count": 60,
   "metadata": {},
   "outputs": [],
   "source": [
    "loss_agg = r_np + (1. - done_mask_np) * \\\n",
    "    model.config.gamma * target_q_test_np.max(axis=1) - q_test_np[[0, 1], a_np]"
   ]
  },
  {
   "cell_type": "code",
   "execution_count": 61,
   "metadata": {},
   "outputs": [
    {
     "data": {
      "text/plain": [
       "47.516483"
      ]
     },
     "execution_count": 61,
     "metadata": {},
     "output_type": "execute_result"
    }
   ],
   "source": [
    "np.mean(loss_agg ** 2)"
   ]
  },
  {
   "cell_type": "code",
   "execution_count": null,
   "metadata": {},
   "outputs": [],
   "source": []
  }
 ],
 "metadata": {
  "kernelspec": {
   "display_name": "Python 2",
   "language": "python",
   "name": "python2"
  },
  "language_info": {
   "codemirror_mode": {
    "name": "ipython",
    "version": 2
   },
   "file_extension": ".py",
   "mimetype": "text/x-python",
   "name": "python",
   "nbconvert_exporter": "python",
   "pygments_lexer": "ipython2",
   "version": "2.7.12"
  }
 },
 "nbformat": 4,
 "nbformat_minor": 2
}
