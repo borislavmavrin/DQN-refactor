{
 "cells": [
  {
   "cell_type": "code",
   "execution_count": 2,
   "metadata": {},
   "outputs": [],
   "source": [
    "import gym\n",
    "from utils.preprocess import greyscale\n",
    "from utils.wrappers import PreproWrapper, MaxAndSkipEnv\n",
    "from utils.replay_buffer import ReplayBuffer\n",
    "\n",
    "from q1_schedule import LinearExploration, LinearSchedule\n",
    "from dqn import DQN\n",
    "\n",
    "from configs.q5_train_atari_nature import config\n",
    "import time"
   ]
  },
  {
   "cell_type": "code",
   "execution_count": 3,
   "metadata": {},
   "outputs": [],
   "source": [
    "import matplotlib.pyplot as plt\n",
    "plt.rcParams['image.cmap'] = 'gray'\n",
    "%matplotlib inline"
   ]
  },
  {
   "cell_type": "code",
   "execution_count": 4,
   "metadata": {},
   "outputs": [
    {
     "name": "stdout",
     "output_type": "stream",
     "text": [
      "\u001b[33mWARN: gym.spaces.Box autodetected dtype as <type 'numpy.uint8'>. Please provide explicit dtype.\u001b[0m\n"
     ]
    }
   ],
   "source": [
    "# make env\n",
    "env = gym.make(config.env_name)\n",
    "env = MaxAndSkipEnv(env, skip=config.skip_frame)\n",
    "env = PreproWrapper(env, prepro=greyscale, shape=(80, 80, 1),\n",
    "                    overwrite_render=config.overwrite_render)"
   ]
  },
  {
   "cell_type": "code",
   "execution_count": 5,
   "metadata": {},
   "outputs": [],
   "source": [
    "# from tensorflow.python.tools import inspect_checkpoint as chkp\n",
    "\n",
    "# chkp.print_tensors_in_checkpoint_file(\n",
    "#     \"/Users/borislav/pretrainedDQN/model.weights/\",\n",
    "#     tensor_name='',\n",
    "#     all_tensors=False,\n",
    "#     all_tensor_names=True\n",
    "# )"
   ]
  },
  {
   "cell_type": "code",
   "execution_count": 6,
   "metadata": {},
   "outputs": [],
   "source": [
    "import tensorflow as tf\n",
    "\n",
    "q_var_lst = [\n",
    "    'q/Conv/biases',\n",
    "    'q/Conv/weights',\n",
    "    'q/Conv_1/biases',\n",
    "    'q/Conv_1/weights',\n",
    "    'q/Conv_2/biases',\n",
    "    'q/Conv_2/weights',\n",
    "    'q/fully_connected/biases',\n",
    "    'q/fully_connected/weights',\n",
    "    'q/fully_connected_1/biases',\n",
    "    'q/fully_connected_1/weights'\n",
    "]\n"
   ]
  },
  {
   "cell_type": "code",
   "execution_count": 7,
   "metadata": {},
   "outputs": [
    {
     "name": "stdout",
     "output_type": "stream",
     "text": [
      "WARNING:tensorflow:From /Users/borislav/DQN/.env/lib/python2.7/site-packages/tensorflow/contrib/learn/python/learn/datasets/base.py:198: retry (from tensorflow.contrib.learn.python.learn.datasets.base) is deprecated and will be removed in a future version.\n",
      "Instructions for updating:\n",
      "Use the retry module or similar alternatives.\n"
     ]
    }
   ],
   "source": [
    "tf.reset_default_graph()\n",
    "num_actions = env.action_space.n\n",
    "\n",
    "s = tf.placeholder(\n",
    "    tf.uint8,\n",
    "    shape=(1, 80, 80, 4)\n",
    ")\n",
    "\n",
    "\n",
    "s_fl = tf.cast(s, tf.float32)\n",
    "s_fl_res = s_fl / 255.\n",
    "\n",
    "with tf.variable_scope('q', reuse=False):\n",
    "    layer1 = tf.contrib.layers.conv2d(\n",
    "        inputs=s_fl_res,\n",
    "        num_outputs=32,\n",
    "        kernel_size=[8, 8],\n",
    "        stride=4,\n",
    "        padding=\"SAME\",\n",
    "        activation_fn=tf.nn.relu\n",
    "    )\n",
    "    layer2 = tf.contrib.layers.conv2d(\n",
    "        inputs=layer1,\n",
    "        num_outputs=64,\n",
    "        kernel_size=[4, 4],\n",
    "        stride=2,\n",
    "        padding=\"SAME\",\n",
    "        activation_fn=tf.nn.relu\n",
    "    )\n",
    "\n",
    "    layer3 = tf.contrib.layers.conv2d(\n",
    "        inputs=layer2,\n",
    "        num_outputs=64,\n",
    "        kernel_size=[3, 3],\n",
    "        stride=1,\n",
    "        padding=\"SAME\",\n",
    "        activation_fn=tf.nn.relu\n",
    "    )\n",
    "    layer4 = tf.contrib.layers.fully_connected(\n",
    "        tf.reshape(layer3, [-1, 10 * 10 * 64]),\n",
    "        512,\n",
    "        activation_fn=tf.nn.relu\n",
    "    )\n",
    "    layer5 = tf.contrib.layers.fully_connected(\n",
    "        layer4,\n",
    "        num_actions,\n",
    "        activation_fn=None\n",
    "    )\n",
    "    q_net = layer5\n",
    "\n",
    "best_action_tf = tf.argmax(q_net, axis=1)"
   ]
  },
  {
   "cell_type": "code",
   "execution_count": 8,
   "metadata": {},
   "outputs": [
    {
     "name": "stdout",
     "output_type": "stream",
     "text": [
      "INFO:tensorflow:Restoring parameters from /Users/borislav/pretrainedDQN/model.weights/\n"
     ]
    }
   ],
   "source": [
    "q_var_lst = tf.get_collection(tf.GraphKeys.TRAINABLE_VARIABLES, scope='q')\n",
    "saver = tf.train.Saver(var_list=q_var_lst)\n",
    "model_weights = \"/Users/borislav/pretrainedDQN/model.weights/\"\n",
    "\n",
    "sess = tf.Session()\n",
    "saver.restore(sess, model_weights)"
   ]
  },
  {
   "cell_type": "code",
   "execution_count": 9,
   "metadata": {
    "scrolled": false
   },
   "outputs": [
    {
     "name": "stdout",
     "output_type": "stream",
     "text": [
      "\u001b[33mWARN: <class 'utils.wrappers.PreproWrapper'> doesn't implement 'reset' method, but it implements deprecated '_reset' method.\u001b[0m\n"
     ]
    }
   ],
   "source": [
    "SHOW_FREQ = 4\n",
    "buffer_size = 8\n",
    "state_history = 4\n",
    "replay_buffer = ReplayBuffer(\n",
    "    buffer_size, state_history)\n",
    "\n",
    "total_reward = 0\n",
    "state = env.reset()\n",
    "frame_counter = 0\n",
    "done = False\n",
    "\n",
    "episode_trajectory_lst = []\n",
    "while not done:\n",
    "    env.render()\n",
    "#     if frame_counter % SHOW_FREQ == 0:\n",
    "#         plt.imshow(state.squeeze())\n",
    "#         plt.show()\n",
    "    # replay memory stuff\n",
    "    idx = replay_buffer.store_frame(state)\n",
    "    q_input = replay_buffer.encode_recent_observation()\n",
    "    \n",
    "    action, layer4_np = sess.run(\n",
    "        [\n",
    "            best_action_tf,\n",
    "            layer4\n",
    "        ],\n",
    "        feed_dict={\n",
    "            s: q_input.reshape((1, 80, 80, 4))\n",
    "        }\n",
    "    )\n",
    "#     print(layer4_np)\n",
    "    new_state, reward, done, info = env.step(action)\n",
    "    frame_counter += 1\n",
    "#     # store the transition\n",
    "    replay_buffer.store_effect(idx, action, reward, done)\n",
    "    \n",
    "    episode_trajectory_lst.append(\n",
    "        (\n",
    "            action, reward, layer4_np.squeeze()\n",
    "        )\n",
    "    )\n",
    "    \n",
    "    state = new_state\n",
    "    time.sleep(0.01)\n",
    "    "
   ]
  },
  {
   "cell_type": "code",
   "execution_count": 10,
   "metadata": {},
   "outputs": [
    {
     "data": {
      "text/plain": [
       "694"
      ]
     },
     "execution_count": 10,
     "metadata": {},
     "output_type": "execute_result"
    }
   ],
   "source": [
    "len(episode_trajectory_lst)"
   ]
  },
  {
   "cell_type": "code",
   "execution_count": 11,
   "metadata": {},
   "outputs": [],
   "source": [
    "import pickle"
   ]
  },
  {
   "cell_type": "code",
   "execution_count": 12,
   "metadata": {},
   "outputs": [],
   "source": [
    "pickle.dump(episode_trajectory_lst, open('episode_0.kpl', 'wb'))"
   ]
  },
  {
   "cell_type": "code",
   "execution_count": null,
   "metadata": {},
   "outputs": [],
   "source": []
  }
 ],
 "metadata": {
  "kernelspec": {
   "display_name": "Python 2",
   "language": "python",
   "name": "python2"
  },
  "language_info": {
   "codemirror_mode": {
    "name": "ipython",
    "version": 2
   },
   "file_extension": ".py",
   "mimetype": "text/x-python",
   "name": "python",
   "nbconvert_exporter": "python",
   "pygments_lexer": "ipython2",
   "version": "2.7.14"
  }
 },
 "nbformat": 4,
 "nbformat_minor": 2
}
